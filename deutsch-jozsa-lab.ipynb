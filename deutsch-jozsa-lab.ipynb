{
 "cells": [
  {
   "cell_type": "markdown",
   "metadata": {},
   "source": [
    "# Oracles and the Deutsch-Jozsa algorithm"
   ]
  },
  {
   "cell_type": "markdown",
   "metadata": {},
   "source": [
    "### Package Installation"
   ]
  },
  {
   "cell_type": "code",
   "execution_count": 24,
   "metadata": {},
   "outputs": [],
   "source": [
    "import numpy as np\n",
    "\n",
    "# Importing standard Qiskit libraries\n",
    "from qiskit import QuantumCircuit, transpile, assemble, Aer, IBMQ, execute\n",
    "from qiskit.quantum_info import Statevector\n",
    "from qiskit.visualization import plot_bloch_multivector, plot_histogram\n",
    "from qiskit_textbook.problems import dj_problem_oracle"
   ]
  },
  {
   "cell_type": "markdown",
   "metadata": {},
   "source": [
    "Many quantum algoritms revolve around the notion of so called $\\textit{oracles}$. An oracle is a function that can be considered as a 'black box'. We generally want to find out specific properties of this function. We do this by asking questions to the oracle (*querying*). The query complexity is then defined as the minimum number of queries in order to find these properties.\n",
    "\n",
    "\n",
    "To get familiar with the use of oracles we will now consider the Deutsch-Josza problem. We will see that the quantum solution has a drastically lower query complexity than its classical counterpart.\n"
   ]
  },
  {
   "cell_type": "markdown",
   "metadata": {},
   "source": [
    "## II.1: Deutsch-Jozsa Problem <a id='djproblem'> </a>\n",
    "\n",
    "We are given a hidden Boolean function $f$, which takes as input a string of bits, and returns either $0$ or $1$, that is:\n",
    "\n",
    "$$\n",
    "f(\\{x_0,x_1,x_2,...\\}) \\rightarrow 0 \\textrm{ or } 1 \\textrm{ , where } x_n \\textrm{ is } 0 \\textrm{ or } 1$$\n",
    "\n",
    "The property of the given Boolean function is that it is guaranteed to either be balanced or constant. A constant function returns all $0$'s or all $1$'s for any input, while a balanced function returns $0$'s for exactly half of all inputs and $1$'s for the other half. Our task is to determine whether the given function is balanced or constant.\n",
    "\n",
    "The Deutsch-Jozsa algorithm was the first example of a quantum algorithm that performs better than the best classical algorithm. It showed that there can be advantages to using a quantum computer as a computational tool for a specific problem.\n"
   ]
  },
  {
   "cell_type": "markdown",
   "metadata": {},
   "source": [
    "In the Deutsch-Josza problem you are given an unknown orcale. This is in Qiskit implemented by the function:"
   ]
  },
  {
   "cell_type": "code",
   "execution_count": 25,
   "metadata": {},
   "outputs": [],
   "source": [
    "oraclenr = 4 # determines the oracle (can range from 1 to 5)\n",
    "oracle = dj_problem_oracle(oraclenr) # gives one out of 5 oracles\n",
    "oracle.name = \"DJ-Oracle\""
   ]
  },
  {
   "cell_type": "markdown",
   "metadata": {},
   "source": [
    "This function gives a certain oracle with 5 input qubits. The last qubit ($q_4$) will be the output. In order to get a feeling for the oracle, let us create a circuit to which we add the oracle such that we can pass it different input strings and then measure the output of $q_4$. This corresponds to the classical way of determining whether the oracle is balanced or constant."
   ]
  },
  {
   "cell_type": "code",
   "execution_count": 26,
   "metadata": {},
   "outputs": [
    {
     "data": {
      "image/png": "[encoded data removed]",
      "text/plain": [
       "<Figure size 327.397x385.28 with 1 Axes>"
      ]
     },
     "execution_count": 26,
     "metadata": {},
     "output_type": "execute_result"
    }
   ],
   "source": [
    "def dj_classical(n, input_str):\n",
    "    \n",
    "    # build a quantum circuit with n qubits and 1 classical readout bit\n",
    "    dj_circuit = QuantumCircuit(n+1,1)\n",
    "    \n",
    "    # Prepare the initial state corresponding to your input bit string\n",
    "    for i in range(n):\n",
    "        if input_str[i] == '1':\n",
    "            dj_circuit.x(i)\n",
    "    \n",
    "    # append oracle\n",
    "    dj_circuit.append(oracle, range(n+1))\n",
    "    \n",
    "    # measure the fourth qubit \n",
    "    dj_circuit.measure(n,0)\n",
    "    \n",
    "    return dj_circuit\n",
    "    \n",
    "n = 4 # number of qubits\n",
    "input_str = '1111'\n",
    "dj_circuit = dj_classical(n, input_str)\n",
    "dj_circuit.draw(\"mpl\") # draw the circuit"
   ]
  },
  {
   "cell_type": "markdown",
   "metadata": {},
   "source": [
    "Now we simulate the results to find the outcome of this circuit. Try different input bit strings to see the corresponding outputs!"
   ]
  },
  {
   "cell_type": "code",
   "execution_count": 27,
   "metadata": {},
   "outputs": [
    {
     "data": {
      "image/png": "[encoded data removed]",
      "text/plain": [
       "<Figure size 504x360 with 1 Axes>"
      ]
     },
     "execution_count": 27,
     "metadata": {},
     "output_type": "execute_result"
    }
   ],
   "source": [
    "input_str = '1111'\n",
    "dj_circuit = dj_classical(n, input_str)\n",
    "qasm_sim = Aer.get_backend('qasm_simulator')\n",
    "transpiled_dj_circuit = transpile(dj_circuit, qasm_sim)\n",
    "qobj = assemble(transpiled_dj_circuit, qasm_sim)\n",
    "results = qasm_sim.run(qobj).result()\n",
    "answer = results.get_counts()\n",
    "plot_histogram(answer)"
   ]
  },
  {
   "cell_type": "markdown",
   "metadata": {},
   "source": [
    "Do you already have an idea whether the oracle is balanced or constant? What is the minimum and maximum number of inputs you would need to check to know whether this 4 bit classical Deutsch-Josza oracle is balanced or constant?"
   ]
  },
  {
   "cell_type": "code",
   "execution_count": 28,
   "metadata": {},
   "outputs": [],
   "source": [
    "def classical():\n",
    "    min_nr_inputs = 2\n",
    "    max_nr_inputs = 9\n",
    "    return [min_nr_inputs, max_nr_inputs]"
   ]
  },
  {
   "cell_type": "code",
   "execution_count": 29,
   "metadata": {},
   "outputs": [
    {
     "data": {
      "text/plain": [
       "[2, 9]"
      ]
     },
     "execution_count": 29,
     "metadata": {},
     "output_type": "execute_result"
    }
   ],
   "source": [
    "classical()"
   ]
  },
  {
   "cell_type": "markdown",
   "metadata": {},
   "source": [
    "## II.2: Quantum Solution to the Deutsch-Josza Problem"
   ]
  },
  {
   "cell_type": "markdown",
   "metadata": {},
   "source": [
    "Using a quantum computer, we can find out if the oracle is constant or balanced with 100% confidence after only one call to the function $f(x)$, provided we have the function $f$ implemented as a quantum oracle, which maps the state $\\vert x\\rangle \\vert y\\rangle $ to $ \\vert x\\rangle \\vert y \\oplus f(x)\\rangle$, where $\\oplus$ is addition modulo $2$. Below we will walk through the algorithm."
   ]
  },
  {
   "cell_type": "markdown",
   "metadata": {},
   "source": [
    "Prepare two quantum registers. The first is an $n$-qubit register initialised to $|0\\rangle$, and the second is a one-qubit register initialised to $|-\\rangle =\\frac{1}{\\sqrt{2}}\\left(|0\\rangle - |1 \\rangle \\right)$. Note, that with Qiskit states are described as $\\vert b_3 b_2 b_1 b_0\\rangle_{q_3q_2q_1q_0}$, i.e. just like for binary numbers, the last bit $b_0$ corresponds to the state of the first qubit. Thus, we want to initialize the state $$\\vert \\psi_0 \\rangle = \\vert -\\rangle \\otimes \\vert0\\rangle^{\\otimes n}.$$"
   ]
  },
  {
   "cell_type": "code",
   "execution_count": 30,
   "metadata": {},
   "outputs": [],
   "source": [
    "def dj_oracle(case, n):\n",
    "    # We need to make a QuantumCircuit object to return\n",
    "    # This circuit has n+1 qubits: the size of the input,\n",
    "    # plus one output qubit\n",
    "    oracle_qc = QuantumCircuit(n+1)\n",
    "    \n",
    "    # First, let's deal with the case in which oracle is balanced\n",
    "    if case == \"balanced\":\n",
    "        # First generate a random number that tells us which CNOTs to\n",
    "        # wrap in X-gates:\n",
    "        b = np.random.randint(1,2**n)\n",
    "        # Next, format 'b' as a binary string of length 'n', padded with zeros:\n",
    "        b_str = format(b, '0'+str(n)+'b')\n",
    "        # Next, we place the first X-gates. Each digit in our binary string \n",
    "        # corresponds to a qubit, if the digit is 0, we do nothing, if it's 1\n",
    "        # we apply an X-gate to that qubit:\n",
    "        for qubit in range(len(b_str)):\n",
    "            if b_str[qubit] == '1':\n",
    "                oracle_qc.x(qubit)\n",
    "        # Do the controlled-NOT gates for each qubit, using the output qubit \n",
    "        # as the target:\n",
    "        for qubit in range(n):\n",
    "            oracle_qc.cx(qubit, n)\n",
    "        # Next, place the final X-gates\n",
    "        for qubit in range(len(b_str)):\n",
    "            if b_str[qubit] == '1':\n",
    "                oracle_qc.x(qubit)\n",
    "\n",
    "    # Case in which oracle is constant\n",
    "    if case == \"constant\":\n",
    "        # First decide what the fixed output of the oracle will be\n",
    "        # (either always 0 or always 1)\n",
    "        output = np.random.randint(2)\n",
    "        if output == 1:\n",
    "            oracle_qc.x(n)\n",
    "    \n",
    "    oracle_gate = oracle_qc.to_gate()\n",
    "    oracle_gate.name = \"Oracle\" # To show when we display the circuit\n",
    "    return oracle_gate"
   ]
  },
  {
   "cell_type": "code",
   "execution_count": 31,
   "metadata": {},
   "outputs": [
    {
     "data": {
      "image/png": "[encoded data removed]",
      "text/plain": [
       "<Figure size 206.997x385.28 with 1 Axes>"
      ]
     },
     "execution_count": 31,
     "metadata": {},
     "output_type": "execute_result"
    }
   ],
   "source": [
    "n=4\n",
    "def psi_0(n):\n",
    "    qc = QuantumCircuit(n+1,n)\n",
    "    \n",
    "    # Build the state (|00000> - |10000>)/sqrt(2)\n",
    "    #\n",
    "    # FILL YOUR CODE IN HERE\n",
    "    #\n",
    "\n",
    "    qc.x(n) #get the |1> state in n+1\n",
    "    qc.h(n)\n",
    "    \n",
    "    return qc\n",
    "\n",
    "dj_circuit = psi_0(n)\n",
    "dj_circuit.draw(\"mpl\")"
   ]
  },
  {
   "cell_type": "markdown",
   "metadata": {},
   "source": [
    "Applying the quantum bit oracle to any state $\\vert x\\rangle \\vert y\\rangle$ would yield the state $\\vert x\\rangle \\vert y \\oplus f(x)\\rangle$.\n",
    "As we have prepared the state $|y\\rangle$, which corresponds to the state on the last qubit $q_n$, in the state $|-\\rangle$, the output of the oracle for any input bitstring $x$ is given by:\n",
    "$$ \\frac{1}{\\sqrt{2}}\\vert x\\rangle (\\vert f(x)\\rangle - \\vert 1 \\oplus f(x)\\rangle) = \\frac{1}{\\sqrt{2}} (-1)^{f(x)}|x\\rangle (|0\\rangle - |1\\rangle ) = (-1)^{f(x)}|x\\rangle |-\\rangle.$$\n",
    "Thus, we have created a phase oracle acting on the bit string $x$.\n",
    "\n",
    "Before applying the oracle, we need to create our input state on the first $n$ qubits though. For that we want an equal superposition state, so that the total state on all $n+1$ qubits is given by $$\\vert \\psi_1 \\rangle = \\frac{1}{\\sqrt{2^{n+1}}}\\sum_{x=0}^{2^n-1} \\vert x\\rangle \\left(|0\\rangle - |1 \\rangle \\right)$$ "
   ]
  },
  {
   "cell_type": "code",
   "execution_count": 32,
   "metadata": {},
   "outputs": [
    {
     "data": {
      "image/png": "[encoded data removed]",
      "text/plain": [
       "<Figure size 206.997x385.28 with 1 Axes>"
      ]
     },
     "execution_count": 32,
     "metadata": {},
     "output_type": "execute_result"
    }
   ],
   "source": [
    "def psi_1(n):\n",
    "    \n",
    "    # obtain the |psi_0> = (|00000> - |10000>)/sqrt(2) state\n",
    "    qc = psi_0(n)\n",
    "    \n",
    "    # create the superposition state |psi_1>\n",
    "    #\n",
    "    #\n",
    "    # FILL YOUR CODE IN HERE\n",
    "    for ind in range(0, n):\n",
    "        qc.h(ind)\n",
    "    \n",
    "    return qc\n",
    "\n",
    "dj_circuit = psi_1(n)\n",
    "dj_circuit.draw(\"mpl\")"
   ]
  },
  {
   "cell_type": "markdown",
   "metadata": {},
   "source": [
    "Now we are ready to apply our oracle to the prepared superposition state $\\vert \\psi_1 \\rangle$. This gives the state\n",
    "$$ \\vert \\psi_2 \\rangle = \\frac{1}{\\sqrt{2^{n+1}}}\\sum_{x=0}^{2^n-1} \\vert x\\rangle (\\vert f(x)\\rangle - \\vert 1 \\oplus f(x)\\rangle) = \\frac{1}{\\sqrt{2^{n+1}}}\\sum_{x=0}^{2^n-1}(-1)^{f(x)}|x\\rangle (|0\\rangle - |1\\rangle ) = \\frac{1}{\\sqrt{2^{n}}}\\sum_{x=0}^{2^n-1}(-1)^{f(x)}|x\\rangle |-\\rangle.$$"
   ]
  },
  {
   "cell_type": "code",
   "execution_count": 33,
   "metadata": {},
   "outputs": [
    {
     "data": {
      "image/png": "[encoded data removed]",
      "text/plain": [
       "<Figure size 327.397x385.28 with 1 Axes>"
      ]
     },
     "execution_count": 33,
     "metadata": {},
     "output_type": "execute_result"
    }
   ],
   "source": [
    "def psi_2(case,n):\n",
    "    \n",
    "    # circuit to obtain psi_1\n",
    "    qc = psi_1(n)\n",
    "    \n",
    "    # append the oracle\n",
    "    oracle = dj_oracle(case, n)\n",
    "    qc.append(oracle, range(n+1))\n",
    "    \n",
    "    return qc\n",
    "\n",
    "dj_circuit = psi_2(\"balanced\", n)\n",
    "dj_circuit.draw(\"mpl\")"
   ]
  },
  {
   "cell_type": "markdown",
   "metadata": {},
   "source": [
    "In the final part of our algorithm we disregard the outcome on our second register and we apply an n-fold Hadamard to our first register. Afterwards we measure the outcome on these qubits."
   ]
  },
  {
   "cell_type": "code",
   "execution_count": 34,
   "metadata": {},
   "outputs": [
    {
     "data": {
      "image/png": "[encoded data removed]",
      "text/plain": [
       "<Figure size 628.397x385.28 with 1 Axes>"
      ]
     },
     "execution_count": 34,
     "metadata": {},
     "output_type": "execute_result"
    }
   ],
   "source": [
    "def dj_algorithm(case, n): # note that this exercise also depends on the code in the functions psi_0 (In [24]) and psi_1 (In [25])\n",
    "    qc = psi_2(case, n)\n",
    "    \n",
    "    # apply n-fold hadamard gate\n",
    "    #\n",
    "    #\n",
    "    # FILL YOUR CODE IN HERE\n",
    "    #\n",
    "    for ind in range(0, n):\n",
    "        qc.h(ind)\n",
    "       \n",
    "    # add the measurement by connecting qubits to classical bits\n",
    "    #\n",
    "    #\n",
    "    # FILL YOUR CODE IN HERE\n",
    "    #\n",
    "    for ind in range(0, n):\n",
    "        qc.measure(ind, ind)\n",
    "    \n",
    "    return qc\n",
    "dj_circuit = dj_algorithm(\"balanced\", n)\n",
    "dj_circuit.draw(\"mpl\")"
   ]
  },
  {
   "cell_type": "markdown",
   "metadata": {},
   "source": [
    "At this point the second single qubit register may be ignored. Applying a Hadamard gate to each qubit in the first register yields the state:\n",
    "        $$\n",
    "        \\begin{aligned}\n",
    "            \\lvert \\psi_3 \\rangle \n",
    "                & = \\frac{1}{2^n}\\sum_{x=0}^{2^n-1}(-1)^{f(x)}\n",
    "                    \\left[ \\sum_{y=0}^{2^n-1}(-1)^{x \\cdot y} \n",
    "                    \\vert y \\rangle \\right] \\\\\n",
    "                & = \\frac{1}{2^n}\\sum_{y=0}^{2^n-1}\n",
    "                    \\left[ \\sum_{x=0}^{2^n-1}(-1)^{f(x)+x \\cdot y} \\right]\n",
    "                    \\vert y \\rangle,\n",
    "        \\end{aligned}\n",
    "        $$\n",
    "       \n",
    "where $x \\cdot y = x_0y_0 \\oplus x_1y_1 \\oplus \\ldots \\oplus x_{n-1}y_{n-1}$ is the sum of the bitwise product.\n",
    "\n",
    "Let us now run the circuit including the measurement of the first register on the simulator:"
   ]
  },
  {
   "cell_type": "code",
   "execution_count": 35,
   "metadata": {},
   "outputs": [
    {
     "data": {
      "image/png": "[encoded data removed]",
      "text/plain": [
       "<Figure size 504x360 with 1 Axes>"
      ]
     },
     "execution_count": 35,
     "metadata": {},
     "output_type": "execute_result"
    }
   ],
   "source": [
    "qasm_sim = Aer.get_backend('qasm_simulator')\n",
    "transpiled_dj_circuit = transpile(dj_circuit, qasm_sim)\n",
    "qobj = assemble(transpiled_dj_circuit)\n",
    "results = qasm_sim.run(qobj).result()\n",
    "answer = results.get_counts()\n",
    "plot_histogram(answer)"
   ]
  },
  {
   "cell_type": "code",
   "execution_count": null,
   "metadata": {},
   "outputs": [],
   "source": []
  }
 ],
 "metadata": {
  "kernelspec": {
   "display_name": "base",
   "language": "python",
   "name": "python3"
  },
  "language_info": {
   "codemirror_mode": {
    "name": "ipython",
    "version": 3
   },
   "file_extension": ".py",
   "mimetype": "text/x-python",
   "name": "python",
   "nbconvert_exporter": "python",
   "pygments_lexer": "ipython3",
   "version": "3.9.12"
  },
  "vscode": {
   "interpreter": {
    "hash": "d88d3824e6b5c6a0e6eada2507a878b2c62a98aa1d80ffd9d1dcde6eddd4ffb1"
   }
  }
 },
 "nbformat": 4,
 "nbformat_minor": 2
}
